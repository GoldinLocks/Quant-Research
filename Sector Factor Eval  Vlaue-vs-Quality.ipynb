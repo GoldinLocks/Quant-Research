{
 "cells": [
  {
   "cell_type": "code",
   "execution_count": 1,
   "metadata": {},
   "outputs": [],
   "source": [
    "from quantopian.research import run_pipeline\n",
    "from quantopian.pipeline import Pipeline, CustomFilter, CustomFactor\n",
    "from quantopian.pipeline.data import Fundamentals \n",
    "from quantopian.pipeline.data import factset\n",
    "from quantopian.pipeline.data.builtin import USEquityPricing\n",
    "from quantopian.pipeline.classifiers.fundamentals import Sector  \n",
    "from quantopian.pipeline.classifiers.morningstar import Sector \n",
    "from quantopian.pipeline.filters import QTradableStocksUS, Q1500US, Q500US\n",
    "from quantopian.pipeline.filters.eventvestor import IsAnnouncedAcqTarget\n",
    "from quantopian.pipeline.data.psychsignal import stocktwits\n",
    "from quantopian.pipeline.data.psychsignal import aggregated_twitter_withretweets_stocktwits as st\n",
    "from quantopian.pipeline.data.zacks import EarningsSurprises\n",
    "from quantopian.pipeline.data import morningstar\n",
    "from quantopian.pipeline.factors import Latest\n",
    "from sklearn import preprocessing\n",
    "from sklearn.preprocessing import StandardScaler, MinMaxScaler\n",
    "from scipy.stats.mstats import winsorize\n",
    "from zipline.utils.numpy_utils import ( repeat_first_axis, repeat_last_axis )"
   ]
  },
  {
   "cell_type": "code",
   "execution_count": 2,
   "metadata": {},
   "outputs": [],
   "source": [
    "from quantopian.pipeline.factors import ( CustomFactor, BusinessDaysSincePreviousEvent, \n",
    "                                         BusinessDaysUntilNextEvent, SimpleMovingAverage, \n",
    "                                         AverageDollarVolume, Returns, RSI, \n",
    "                                         RollingLinearRegressionOfReturns, RollingSpearmanOfReturns, \n",
    "                                         AnnualizedVolatility, Returns, DailyReturns)"
   ]
  },
  {
   "cell_type": "code",
   "execution_count": 3,
   "metadata": {},
   "outputs": [],
   "source": [
    "import talib\n",
    "import pandas as pd\n",
    "import numpy as np\n",
    "from time import time"
   ]
  },
  {
   "cell_type": "code",
   "execution_count": 45,
   "metadata": {},
   "outputs": [],
   "source": [
    "import alphalens as al\n",
    "import pyfolio as pf\n",
    "from scipy import stats\n",
    "import scipy\n",
    "import statsmodels.api as sm\n",
    "import matplotlib.pyplot as plt\n",
    "from sklearn.svm import SVC, OneClassSVM, LinearSVC\n",
    "from sklearn.naive_bayes import GaussianNB\n",
    "from sklearn import linear_model, decomposition, ensemble, preprocessing, isotonic, metrics"
   ]
  },
  {
   "cell_type": "code",
   "execution_count": 5,
   "metadata": {},
   "outputs": [],
   "source": [
    "from quantopian.pipeline.data.quandl import fred_usdontd156n as libor\n",
    "from sklearn.metrics import classification_report"
   ]
  },
  {
   "cell_type": "code",
   "execution_count": 6,
   "metadata": {},
   "outputs": [],
   "source": [
    "WIN_LIMIT = 0.0"
   ]
  },
  {
   "cell_type": "code",
   "execution_count": 7,
   "metadata": {},
   "outputs": [],
   "source": [
    "def preprocess(a):\n",
    "    \n",
    "    a = np.nan_to_num(a - np.nanmean(a))\n",
    "    \n",
    "    a = winsorize(a, limits=[WIN_LIMIT,WIN_LIMIT])\n",
    "\n",
    "    return preprocessing.scale(a)"
   ]
  },
  {
   "cell_type": "code",
   "execution_count": 9,
   "metadata": {},
   "outputs": [],
   "source": [
    "has_data = (morningstar.income_statement.gross_profit.latest.notnull()\n",
    "            & morningstar.balance_sheet.total_assets.latest.notnull()\n",
    "            & morningstar.valuation_ratios.book_value_yield.latest.notnull()\n",
    "            & morningstar.valuation.market_cap.latest.notnull()\n",
    "            & morningstar.asset_classification.morningstar_sector_code.latest.notnull()\n",
    ")"
   ]
  },
  {
   "cell_type": "code",
   "execution_count": 10,
   "metadata": {},
   "outputs": [],
   "source": [
    "is_tradeable = (QTradableStocksUS()\n",
    "                & has_data )"
   ]
  },
  {
   "cell_type": "code",
   "execution_count": 11,
   "metadata": {},
   "outputs": [],
   "source": [
    "class GP_to_A(CustomFactor):\n",
    "    \n",
    "    inputs = [morningstar.income_statement.gross_profit, morningstar.balance_sheet.total_assets]\n",
    "    window_length = 1\n",
    "    \n",
    "    def compute(self, today, assets, out, gross_profit, total_assets):       \n",
    "        out[:] = gross_profit[-1] / total_assets[-1]\n",
    "                \n",
    "def make_pipeline():\n",
    "\n",
    "    pipe = Pipeline(\n",
    "        columns = {\n",
    "            'GP_to_A' : GP_to_A(),\n",
    "            'B_to_M' : morningstar.valuation_ratios.book_value_yield.latest,\n",
    "            'Market_Cap' : morningstar.valuation.market_cap.latest,\n",
    "            'sector' : morningstar.asset_classification.morningstar_sector_code.latest,\n",
    "        },\n",
    "        screen=is_tradeable\n",
    "    )\n",
    "    return pipe"
   ]
  },
  {
   "cell_type": "code",
   "execution_count": 30,
   "metadata": {},
   "outputs": [],
   "source": [
    "pipe = make_pipeline()"
   ]
  },
  {
   "cell_type": "code",
   "execution_count": 31,
   "metadata": {},
   "outputs": [
    {
     "name": "stdout",
     "output_type": "stream",
     "text": [
      "Time to run pipeline 0.81 secs\n"
     ]
    }
   ],
   "source": [
    "start_date = '2018-06-01'\n",
    "end_date = '2018-06-01'\n",
    "\n",
    "start_timer = time()\n",
    "data = run_pipeline(pipe, start_date, end_date)\n",
    "end_timer = time()\n",
    "\n",
    "print \"Time to run pipeline %.2f secs\" % (end_timer - start_timer)"
   ]
  },
  {
   "cell_type": "markdown",
   "metadata": {},
   "source": [
    "####Measure of Quality = Gross Profitability-to-Assets (GP/A) | Measure of Value = Book-to-Market (B/M) & Market Cap"
   ]
  },
  {
   "cell_type": "code",
   "execution_count": 33,
   "metadata": {},
   "outputs": [
    {
     "name": "stdout",
     "output_type": "stream",
     "text": [
      "Number of Stocks: 1872\n"
     ]
    },
    {
     "data": {
      "text/html": [
       "<div>\n",
       "<table border=\"1\" class=\"dataframe\">\n",
       "  <thead>\n",
       "    <tr style=\"text-align: right;\">\n",
       "      <th></th>\n",
       "      <th>B_to_M</th>\n",
       "      <th>GP_to_A</th>\n",
       "      <th>Market_Cap</th>\n",
       "      <th>sector</th>\n",
       "    </tr>\n",
       "  </thead>\n",
       "  <tbody>\n",
       "    <tr>\n",
       "      <th>Equity(2 [ARNC])</th>\n",
       "      <td>0.5958</td>\n",
       "      <td>0.037159</td>\n",
       "      <td>8.748918e+09</td>\n",
       "      <td>310</td>\n",
       "    </tr>\n",
       "    <tr>\n",
       "      <th>Equity(24 [AAPL])</th>\n",
       "      <td>0.1377</td>\n",
       "      <td>0.063733</td>\n",
       "      <td>9.215884e+11</td>\n",
       "      <td>311</td>\n",
       "    </tr>\n",
       "    <tr>\n",
       "      <th>Equity(41 [ARCB])</th>\n",
       "      <td>0.5510</td>\n",
       "      <td>0.305436</td>\n",
       "      <td>1.207715e+09</td>\n",
       "      <td>310</td>\n",
       "    </tr>\n",
       "    <tr>\n",
       "      <th>Equity(52 [ABM])</th>\n",
       "      <td>0.7397</td>\n",
       "      <td>0.041875</td>\n",
       "      <td>1.915155e+09</td>\n",
       "      <td>310</td>\n",
       "    </tr>\n",
       "    <tr>\n",
       "      <th>Equity(53 [ABMD])</th>\n",
       "      <td>0.0399</td>\n",
       "      <td>0.183549</td>\n",
       "      <td>1.728275e+10</td>\n",
       "      <td>206</td>\n",
       "    </tr>\n",
       "  </tbody>\n",
       "</table>\n",
       "</div>"
      ],
      "text/plain": [
       "                   B_to_M   GP_to_A    Market_Cap  sector\n",
       "Equity(2 [ARNC])   0.5958  0.037159  8.748918e+09     310\n",
       "Equity(24 [AAPL])  0.1377  0.063733  9.215884e+11     311\n",
       "Equity(41 [ARCB])  0.5510  0.305436  1.207715e+09     310\n",
       "Equity(52 [ABM])   0.7397  0.041875  1.915155e+09     310\n",
       "Equity(53 [ABMD])  0.0399  0.183549  1.728275e+10     206"
      ]
     },
     "execution_count": 33,
     "metadata": {},
     "output_type": "execute_result"
    }
   ],
   "source": [
    "assets = data.index.levels[1]\n",
    "num_assets = len(data.index.levels[1])\n",
    "print 'Number of Stocks:', num_assets\n",
    "data.index=data.index.droplevel(0)\n",
    "data.head()"
   ]
  },
  {
   "cell_type": "markdown",
   "metadata": {},
   "source": [
    "#####Quality is usually negatively correlated with value. High quality stocks tend to have lower book-to-market ratios. One way to show this is to divide stocks into 10 deciles based on GP/A, and look at the average B/M for each GP/A decile. The results are monotonic in deciles."
   ]
  },
  {
   "cell_type": "code",
   "execution_count": 34,
   "metadata": {},
   "outputs": [
    {
     "data": {
      "image/png": "[encoded data removed]",
      "text/plain": [
       "<matplotlib.figure.Figure at 0x7f35346cc850>"
      ]
     },
     "metadata": {},
     "output_type": "display_data"
    }
   ],
   "source": [
    "data=data.dropna()\n",
    "data['decile']=pd.qcut(data['GP_to_A'],10,labels=False)+1\n",
    "quantile_averages=data.groupby('decile')['B_to_M'].apply(lambda x: x.mean())\n",
    "quantile_averages.plot(kind='bar')\n",
    "plt.xlabel('GP/A deciles')\n",
    "plt.ylabel('Average B/M');"
   ]
  },
  {
   "cell_type": "markdown",
   "metadata": {},
   "source": [
    "#####compute z-scores for gross profitability-to-assets and for book-to-market, which reduces the influence of outliers and allows for easier interpretation of regression coefficients."
   ]
  },
  {
   "cell_type": "code",
   "execution_count": 35,
   "metadata": {},
   "outputs": [
    {
     "data": {
      "text/html": [
       "<div>\n",
       "<table border=\"1\" class=\"dataframe\">\n",
       "  <thead>\n",
       "    <tr style=\"text-align: right;\">\n",
       "      <th></th>\n",
       "      <th>B_to_M</th>\n",
       "      <th>GP_to_A</th>\n",
       "      <th>Market_Cap</th>\n",
       "      <th>sector</th>\n",
       "      <th>decile</th>\n",
       "      <th>gp_z</th>\n",
       "      <th>bm_z</th>\n",
       "      <th>MC_demean</th>\n",
       "    </tr>\n",
       "  </thead>\n",
       "  <tbody>\n",
       "    <tr>\n",
       "      <th>Equity(2 [ARNC])</th>\n",
       "      <td>0.5958</td>\n",
       "      <td>0.037159</td>\n",
       "      <td>8.748918e+09</td>\n",
       "      <td>310</td>\n",
       "      <td>3</td>\n",
       "      <td>-0.584199</td>\n",
       "      <td>0.624020</td>\n",
       "      <td>1.116970e+10</td>\n",
       "    </tr>\n",
       "    <tr>\n",
       "      <th>Equity(24 [AAPL])</th>\n",
       "      <td>0.1377</td>\n",
       "      <td>0.063733</td>\n",
       "      <td>9.215884e+11</td>\n",
       "      <td>311</td>\n",
       "      <td>6</td>\n",
       "      <td>-0.551088</td>\n",
       "      <td>-0.456353</td>\n",
       "      <td>2.053919e+10</td>\n",
       "    </tr>\n",
       "    <tr>\n",
       "      <th>Equity(41 [ARCB])</th>\n",
       "      <td>0.5510</td>\n",
       "      <td>0.305436</td>\n",
       "      <td>1.207715e+09</td>\n",
       "      <td>310</td>\n",
       "      <td>10</td>\n",
       "      <td>4.230668</td>\n",
       "      <td>0.490829</td>\n",
       "      <td>1.116970e+10</td>\n",
       "    </tr>\n",
       "    <tr>\n",
       "      <th>Equity(52 [ABM])</th>\n",
       "      <td>0.7397</td>\n",
       "      <td>0.041875</td>\n",
       "      <td>1.915155e+09</td>\n",
       "      <td>310</td>\n",
       "      <td>4</td>\n",
       "      <td>-0.499556</td>\n",
       "      <td>1.051837</td>\n",
       "      <td>1.116970e+10</td>\n",
       "    </tr>\n",
       "    <tr>\n",
       "      <th>Equity(53 [ABMD])</th>\n",
       "      <td>0.0399</td>\n",
       "      <td>0.183549</td>\n",
       "      <td>1.728275e+10</td>\n",
       "      <td>206</td>\n",
       "      <td>10</td>\n",
       "      <td>1.387207</td>\n",
       "      <td>-0.570505</td>\n",
       "      <td>1.309524e+10</td>\n",
       "    </tr>\n",
       "  </tbody>\n",
       "</table>\n",
       "</div>"
      ],
      "text/plain": [
       "                   B_to_M   GP_to_A    Market_Cap  sector  decile      gp_z  \\\n",
       "Equity(2 [ARNC])   0.5958  0.037159  8.748918e+09     310       3 -0.584199   \n",
       "Equity(24 [AAPL])  0.1377  0.063733  9.215884e+11     311       6 -0.551088   \n",
       "Equity(41 [ARCB])  0.5510  0.305436  1.207715e+09     310      10  4.230668   \n",
       "Equity(52 [ABM])   0.7397  0.041875  1.915155e+09     310       4 -0.499556   \n",
       "Equity(53 [ABMD])  0.0399  0.183549  1.728275e+10     206      10  1.387207   \n",
       "\n",
       "                       bm_z     MC_demean  \n",
       "Equity(2 [ARNC])   0.624020  1.116970e+10  \n",
       "Equity(24 [AAPL]) -0.456353  2.053919e+10  \n",
       "Equity(41 [ARCB])  0.490829  1.116970e+10  \n",
       "Equity(52 [ABM])   1.051837  1.116970e+10  \n",
       "Equity(53 [ABMD]) -0.570505  1.309524e+10  "
      ]
     },
     "execution_count": 35,
     "metadata": {},
     "output_type": "execute_result"
    }
   ],
   "source": [
    "data['gp_z']=data.groupby('sector')['GP_to_A'].transform(lambda x: (x-x.mean())/x.std())\n",
    "data['bm_z']=data.groupby('sector')['B_to_M'].transform(lambda x: (x-x.mean())/x.std())\n",
    "data['MC_demean']=data.groupby('sector')['Market_Cap'].transform(lambda x: x.mean())\n",
    "data=data.dropna()\n",
    "data.head()"
   ]
  },
  {
   "cell_type": "code",
   "execution_count": 36,
   "metadata": {},
   "outputs": [
    {
     "data": {
      "text/html": [
       "<table class=\"simpletable\">\n",
       "<caption>OLS Regression Results</caption>\n",
       "<tr>\n",
       "  <th>Dep. Variable:</th>          <td>bm_z</td>       <th>  R-squared:         </th> <td>   0.071</td>\n",
       "</tr>\n",
       "<tr>\n",
       "  <th>Model:</th>                   <td>OLS</td>       <th>  Adj. R-squared:    </th> <td>   0.070</td>\n",
       "</tr>\n",
       "<tr>\n",
       "  <th>Method:</th>             <td>Least Squares</td>  <th>  F-statistic:       </th> <td>   142.0</td>\n",
       "</tr>\n",
       "<tr>\n",
       "  <th>Date:</th>             <td>Sun, 21 Apr 2019</td> <th>  Prob (F-statistic):</th> <td>1.33e-31</td>\n",
       "</tr>\n",
       "<tr>\n",
       "  <th>Time:</th>                 <td>23:58:33</td>     <th>  Log-Likelihood:    </th> <td> -2582.2</td>\n",
       "</tr>\n",
       "<tr>\n",
       "  <th>No. Observations:</th>      <td>  1872</td>      <th>  AIC:               </th> <td>   5168.</td>\n",
       "</tr>\n",
       "<tr>\n",
       "  <th>Df Residuals:</th>          <td>  1870</td>      <th>  BIC:               </th> <td>   5180.</td>\n",
       "</tr>\n",
       "<tr>\n",
       "  <th>Df Model:</th>              <td>     1</td>      <th>                     </th>     <td> </td>   \n",
       "</tr>\n",
       "<tr>\n",
       "  <th>Covariance Type:</th>      <td>nonrobust</td>    <th>                     </th>     <td> </td>   \n",
       "</tr>\n",
       "</table>\n",
       "<table class=\"simpletable\">\n",
       "<tr>\n",
       "    <td></td>       <th>coef</th>     <th>std err</th>      <th>t</th>      <th>P>|t|</th> <th>[95.0% Conf. Int.]</th> \n",
       "</tr>\n",
       "<tr>\n",
       "  <th>const</th> <td> 8.847e-17</td> <td>    0.022</td> <td> 3.98e-15</td> <td> 1.000</td> <td>   -0.044     0.044</td>\n",
       "</tr>\n",
       "<tr>\n",
       "  <th>gp_z</th>  <td>   -0.2656</td> <td>    0.022</td> <td>  -11.915</td> <td> 0.000</td> <td>   -0.309    -0.222</td>\n",
       "</tr>\n",
       "</table>\n",
       "<table class=\"simpletable\">\n",
       "<tr>\n",
       "  <th>Omnibus:</th>       <td>795.973</td> <th>  Durbin-Watson:     </th>  <td>   2.046</td> \n",
       "</tr>\n",
       "<tr>\n",
       "  <th>Prob(Omnibus):</th> <td> 0.000</td>  <th>  Jarque-Bera (JB):  </th> <td>214544.049</td>\n",
       "</tr>\n",
       "<tr>\n",
       "  <th>Skew:</th>          <td>-0.756</td>  <th>  Prob(JB):          </th>  <td>    0.00</td> \n",
       "</tr>\n",
       "<tr>\n",
       "  <th>Kurtosis:</th>      <td>55.424</td>  <th>  Cond. No.          </th>  <td>    1.00</td> \n",
       "</tr>\n",
       "</table>"
      ],
      "text/plain": [
       "<class 'statsmodels.iolib.summary.Summary'>\n",
       "\"\"\"\n",
       "                            OLS Regression Results                            \n",
       "==============================================================================\n",
       "Dep. Variable:                   bm_z   R-squared:                       0.071\n",
       "Model:                            OLS   Adj. R-squared:                  0.070\n",
       "Method:                 Least Squares   F-statistic:                     142.0\n",
       "Date:                Sun, 21 Apr 2019   Prob (F-statistic):           1.33e-31\n",
       "Time:                        23:58:33   Log-Likelihood:                -2582.2\n",
       "No. Observations:                1872   AIC:                             5168.\n",
       "Df Residuals:                    1870   BIC:                             5180.\n",
       "Df Model:                           1                                         \n",
       "Covariance Type:            nonrobust                                         \n",
       "==============================================================================\n",
       "                 coef    std err          t      P>|t|      [95.0% Conf. Int.]\n",
       "------------------------------------------------------------------------------\n",
       "const       8.847e-17      0.022   3.98e-15      1.000        -0.044     0.044\n",
       "gp_z          -0.2656      0.022    -11.915      0.000        -0.309    -0.222\n",
       "==============================================================================\n",
       "Omnibus:                      795.973   Durbin-Watson:                   2.046\n",
       "Prob(Omnibus):                  0.000   Jarque-Bera (JB):           214544.049\n",
       "Skew:                          -0.756   Prob(JB):                         0.00\n",
       "Kurtosis:                      55.424   Cond. No.                         1.00\n",
       "==============================================================================\n",
       "\n",
       "Warnings:\n",
       "[1] Standard Errors assume that the covariance matrix of the errors is correctly specified.\n",
       "\"\"\""
      ]
     },
     "execution_count": 36,
     "metadata": {},
     "output_type": "execute_result"
    }
   ],
   "source": [
    "results = sm.OLS(data['bm_z'],sm.add_constant(data['gp_z'])).fit()\n",
    "results.summary()"
   ]
  },
  {
   "cell_type": "code",
   "execution_count": 37,
   "metadata": {},
   "outputs": [
    {
     "data": {
      "image/png": "[encoded data removed]",
      "text/plain": [
       "<matplotlib.figure.Figure at 0x7f35347e7bd0>"
      ]
     },
     "metadata": {},
     "output_type": "display_data"
    }
   ],
   "source": [
    "plt.scatter(data['gp_z'],data['bm_z'],marker='o',color='r')\n",
    "plt.ylim([-4,4])\n",
    "plt.xlim([-4,4])\n",
    "plt.ylabel('B/M z-score')\n",
    "plt.xlabel('GP/A z-score')\n",
    "X_plot = np.linspace(-4,4,100)\n",
    "plt.plot(X_plot, X_plot*results.params[1] + results.params[0],linewidth=3);"
   ]
  },
  {
   "cell_type": "markdown",
   "metadata": {},
   "source": [
    "Novy-Marx claims that GP/A is also correlated to Market Cap, and therefore a portfolio of high GP/A stocks will be more liquid and produce a higher Fama-French three factor alpha because of its negative loading on size.\n",
    "\n",
    "I was not able to find a positive correlation between GP/A and Market Cap for the recent period"
   ]
  },
  {
   "cell_type": "code",
   "execution_count": 38,
   "metadata": {},
   "outputs": [
    {
     "data": {
      "image/png": "[encoded data removed]",
      "text/plain": [
       "<matplotlib.figure.Figure at 0x7f353455a990>"
      ]
     },
     "metadata": {},
     "output_type": "display_data"
    }
   ],
   "source": [
    "quantile_averages=data.groupby('decile')['Market_Cap'].apply(lambda x: x.mean())\n",
    "quantile_averages.plot(kind='bar')\n",
    "plt.xlabel('GP/A deciles')\n",
    "plt.ylabel('Average Market Cap');"
   ]
  },
  {
   "cell_type": "code",
   "execution_count": 63,
   "metadata": {},
   "outputs": [],
   "source": [
    "sector_names = {\n",
    "     -1: 'Misc',\n",
    "    101: 'Basic Mtrls',\n",
    "    102: 'Consmr Cyc',\n",
    "    103: 'Financial Svs',\n",
    "    104: 'Real Estate',\n",
    "    205: 'Consmr Def',\n",
    "    206: 'Healthcare',\n",
    "    207: 'Utilities',\n",
    "    308: 'Comm Svs',\n",
    "    309: 'Energy',\n",
    "    310: 'Industrials',\n",
    "    311: 'Technology' ,    \n",
    "}"
   ]
  },
  {
   "cell_type": "code",
   "execution_count": 64,
   "metadata": {},
   "outputs": [
    {
     "data": {
      "text/html": [
       "<div>\n",
       "<table border=\"1\" class=\"dataframe\">\n",
       "  <thead>\n",
       "    <tr style=\"text-align: right;\">\n",
       "      <th></th>\n",
       "      <th>B_to_M</th>\n",
       "      <th>GP_to_A</th>\n",
       "      <th>Market_Cap</th>\n",
       "      <th>sector</th>\n",
       "      <th>decile</th>\n",
       "      <th>gp_z</th>\n",
       "      <th>bm_z</th>\n",
       "      <th>MC_demean</th>\n",
       "      <th>sector_name</th>\n",
       "      <th>GP_to_A_winsorize</th>\n",
       "    </tr>\n",
       "  </thead>\n",
       "  <tbody>\n",
       "    <tr>\n",
       "      <th>Equity(2 [ARNC])</th>\n",
       "      <td>0.5958</td>\n",
       "      <td>0.037159</td>\n",
       "      <td>8.748918e+09</td>\n",
       "      <td>310</td>\n",
       "      <td>3</td>\n",
       "      <td>-0.584199</td>\n",
       "      <td>0.624020</td>\n",
       "      <td>1.116970e+10</td>\n",
       "      <td>Industrials</td>\n",
       "      <td>0.037159</td>\n",
       "    </tr>\n",
       "    <tr>\n",
       "      <th>Equity(24 [AAPL])</th>\n",
       "      <td>0.1377</td>\n",
       "      <td>0.063733</td>\n",
       "      <td>9.215884e+11</td>\n",
       "      <td>311</td>\n",
       "      <td>6</td>\n",
       "      <td>-0.551088</td>\n",
       "      <td>-0.456353</td>\n",
       "      <td>2.053919e+10</td>\n",
       "      <td>Technology</td>\n",
       "      <td>0.063733</td>\n",
       "    </tr>\n",
       "    <tr>\n",
       "      <th>Equity(41 [ARCB])</th>\n",
       "      <td>0.5510</td>\n",
       "      <td>0.305436</td>\n",
       "      <td>1.207715e+09</td>\n",
       "      <td>310</td>\n",
       "      <td>10</td>\n",
       "      <td>4.230668</td>\n",
       "      <td>0.490829</td>\n",
       "      <td>1.116970e+10</td>\n",
       "      <td>Industrials</td>\n",
       "      <td>0.305436</td>\n",
       "    </tr>\n",
       "    <tr>\n",
       "      <th>Equity(52 [ABM])</th>\n",
       "      <td>0.7397</td>\n",
       "      <td>0.041875</td>\n",
       "      <td>1.915155e+09</td>\n",
       "      <td>310</td>\n",
       "      <td>4</td>\n",
       "      <td>-0.499556</td>\n",
       "      <td>1.051837</td>\n",
       "      <td>1.116970e+10</td>\n",
       "      <td>Industrials</td>\n",
       "      <td>0.041875</td>\n",
       "    </tr>\n",
       "    <tr>\n",
       "      <th>Equity(53 [ABMD])</th>\n",
       "      <td>0.0399</td>\n",
       "      <td>0.183549</td>\n",
       "      <td>1.728275e+10</td>\n",
       "      <td>206</td>\n",
       "      <td>10</td>\n",
       "      <td>1.387207</td>\n",
       "      <td>-0.570505</td>\n",
       "      <td>1.309524e+10</td>\n",
       "      <td>Healthcare</td>\n",
       "      <td>0.183549</td>\n",
       "    </tr>\n",
       "  </tbody>\n",
       "</table>\n",
       "</div>"
      ],
      "text/plain": [
       "                   B_to_M   GP_to_A    Market_Cap  sector  decile      gp_z  \\\n",
       "Equity(2 [ARNC])   0.5958  0.037159  8.748918e+09     310       3 -0.584199   \n",
       "Equity(24 [AAPL])  0.1377  0.063733  9.215884e+11     311       6 -0.551088   \n",
       "Equity(41 [ARCB])  0.5510  0.305436  1.207715e+09     310      10  4.230668   \n",
       "Equity(52 [ABM])   0.7397  0.041875  1.915155e+09     310       4 -0.499556   \n",
       "Equity(53 [ABMD])  0.0399  0.183549  1.728275e+10     206      10  1.387207   \n",
       "\n",
       "                       bm_z     MC_demean  sector_name  GP_to_A_winsorize  \n",
       "Equity(2 [ARNC])   0.624020  1.116970e+10  Industrials           0.037159  \n",
       "Equity(24 [AAPL]) -0.456353  2.053919e+10   Technology           0.063733  \n",
       "Equity(41 [ARCB])  0.490829  1.116970e+10  Industrials           0.305436  \n",
       "Equity(52 [ABM])   1.051837  1.116970e+10  Industrials           0.041875  \n",
       "Equity(53 [ABMD]) -0.570505  1.309524e+10   Healthcare           0.183549  "
      ]
     },
     "execution_count": 64,
     "metadata": {},
     "output_type": "execute_result"
    }
   ],
   "source": [
    "data['sector_name']=data['sector'].map(sector_names)\n",
    "data.head()"
   ]
  },
  {
   "cell_type": "markdown",
   "metadata": {},
   "source": [
    "###The mean GP/A factor varies considerably by sector."
   ]
  },
  {
   "cell_type": "code",
   "execution_count": 65,
   "metadata": {},
   "outputs": [
    {
     "data": {
      "image/png": "[encoded data removed]",
      "text/plain": [
       "<matplotlib.figure.Figure at 0x7f3521381310>"
      ]
     },
     "metadata": {},
     "output_type": "display_data"
    }
   ],
   "source": [
    "sector_averages=data.groupby('sector_name')['GP_to_A'].apply(lambda x: x.mean())\n",
    "plt.ylabel('GP/A')\n",
    "sector_averages.plot(kind='bar');"
   ]
  },
  {
   "cell_type": "markdown",
   "metadata": {},
   "source": [
    "####winsorized GP/A"
   ]
  },
  {
   "cell_type": "code",
   "execution_count": 66,
   "metadata": {},
   "outputs": [
    {
     "data": {
      "text/html": [
       "<div>\n",
       "<table border=\"1\" class=\"dataframe\">\n",
       "  <thead>\n",
       "    <tr style=\"text-align: right;\">\n",
       "      <th></th>\n",
       "      <th>B_to_M</th>\n",
       "      <th>GP_to_A</th>\n",
       "      <th>Market_Cap</th>\n",
       "      <th>sector</th>\n",
       "      <th>decile</th>\n",
       "      <th>gp_z</th>\n",
       "      <th>bm_z</th>\n",
       "      <th>MC_demean</th>\n",
       "      <th>sector_name</th>\n",
       "      <th>GP_to_A_winsorize</th>\n",
       "    </tr>\n",
       "  </thead>\n",
       "  <tbody>\n",
       "    <tr>\n",
       "      <th>Equity(2 [ARNC])</th>\n",
       "      <td>0.5958</td>\n",
       "      <td>0.037159</td>\n",
       "      <td>8.748918e+09</td>\n",
       "      <td>310</td>\n",
       "      <td>3</td>\n",
       "      <td>-0.584199</td>\n",
       "      <td>0.624020</td>\n",
       "      <td>1.116970e+10</td>\n",
       "      <td>Industrials</td>\n",
       "      <td>0.037159</td>\n",
       "    </tr>\n",
       "    <tr>\n",
       "      <th>Equity(24 [AAPL])</th>\n",
       "      <td>0.1377</td>\n",
       "      <td>0.063733</td>\n",
       "      <td>9.215884e+11</td>\n",
       "      <td>311</td>\n",
       "      <td>6</td>\n",
       "      <td>-0.551088</td>\n",
       "      <td>-0.456353</td>\n",
       "      <td>2.053919e+10</td>\n",
       "      <td>Technology</td>\n",
       "      <td>0.063733</td>\n",
       "    </tr>\n",
       "    <tr>\n",
       "      <th>Equity(41 [ARCB])</th>\n",
       "      <td>0.5510</td>\n",
       "      <td>0.305436</td>\n",
       "      <td>1.207715e+09</td>\n",
       "      <td>310</td>\n",
       "      <td>10</td>\n",
       "      <td>4.230668</td>\n",
       "      <td>0.490829</td>\n",
       "      <td>1.116970e+10</td>\n",
       "      <td>Industrials</td>\n",
       "      <td>0.305436</td>\n",
       "    </tr>\n",
       "    <tr>\n",
       "      <th>Equity(52 [ABM])</th>\n",
       "      <td>0.7397</td>\n",
       "      <td>0.041875</td>\n",
       "      <td>1.915155e+09</td>\n",
       "      <td>310</td>\n",
       "      <td>4</td>\n",
       "      <td>-0.499556</td>\n",
       "      <td>1.051837</td>\n",
       "      <td>1.116970e+10</td>\n",
       "      <td>Industrials</td>\n",
       "      <td>0.041875</td>\n",
       "    </tr>\n",
       "    <tr>\n",
       "      <th>Equity(53 [ABMD])</th>\n",
       "      <td>0.0399</td>\n",
       "      <td>0.183549</td>\n",
       "      <td>1.728275e+10</td>\n",
       "      <td>206</td>\n",
       "      <td>10</td>\n",
       "      <td>1.387207</td>\n",
       "      <td>-0.570505</td>\n",
       "      <td>1.309524e+10</td>\n",
       "      <td>Healthcare</td>\n",
       "      <td>0.183549</td>\n",
       "    </tr>\n",
       "  </tbody>\n",
       "</table>\n",
       "</div>"
      ],
      "text/plain": [
       "                   B_to_M   GP_to_A    Market_Cap  sector  decile      gp_z  \\\n",
       "Equity(2 [ARNC])   0.5958  0.037159  8.748918e+09     310       3 -0.584199   \n",
       "Equity(24 [AAPL])  0.1377  0.063733  9.215884e+11     311       6 -0.551088   \n",
       "Equity(41 [ARCB])  0.5510  0.305436  1.207715e+09     310      10  4.230668   \n",
       "Equity(52 [ABM])   0.7397  0.041875  1.915155e+09     310       4 -0.499556   \n",
       "Equity(53 [ABMD])  0.0399  0.183549  1.728275e+10     206      10  1.387207   \n",
       "\n",
       "                       bm_z     MC_demean  sector_name  GP_to_A_winsorize  \n",
       "Equity(2 [ARNC])   0.624020  1.116970e+10  Industrials           0.037159  \n",
       "Equity(24 [AAPL]) -0.456353  2.053919e+10   Technology           0.063733  \n",
       "Equity(41 [ARCB])  0.490829  1.116970e+10  Industrials           0.305436  \n",
       "Equity(52 [ABM])   1.051837  1.116970e+10  Industrials           0.041875  \n",
       "Equity(53 [ABMD]) -0.570505  1.309524e+10   Healthcare           0.183549  "
      ]
     },
     "execution_count": 66,
     "metadata": {},
     "output_type": "execute_result"
    }
   ],
   "source": [
    "data['GP_to_A_winsorize']=scipy.stats.mstats.winsorize(data['GP_to_A'],inplace=True,limits=.002)\n",
    "data.head()"
   ]
  },
  {
   "cell_type": "code",
   "execution_count": 67,
   "metadata": {},
   "outputs": [
    {
     "data": {
      "text/plain": [
       "count    1872.000000\n",
       "mean        0.076118\n",
       "std         0.069367\n",
       "min        -0.011590\n",
       "25%         0.031847\n",
       "50%         0.059235\n",
       "75%         0.098315\n",
       "max         0.611861\n",
       "Name: GP_to_A_winsorize, dtype: float64"
      ]
     },
     "execution_count": 67,
     "metadata": {},
     "output_type": "execute_result"
    }
   ],
   "source": [
    "data['GP_to_A_winsorize'].describe()"
   ]
  },
  {
   "cell_type": "markdown",
   "metadata": {},
   "source": [
    "###A boxplot shows how the range of GP/A also varies considerably by sector."
   ]
  },
  {
   "cell_type": "code",
   "execution_count": 68,
   "metadata": {},
   "outputs": [
    {
     "data": {
      "image/png": "[encoded data removed]",
      "text/plain": [
       "<matplotlib.figure.Figure at 0x7f352139da10>"
      ]
     },
     "metadata": {},
     "output_type": "display_data"
    }
   ],
   "source": [
    "data.boxplot(column='GP_to_A_winsorize',by='sector_name')\n",
    "plt.ylabel('GP/A')\n",
    "plt.title('')\n",
    "plt.ylim(-.05,0.35);"
   ]
  },
  {
   "cell_type": "code",
   "execution_count": null,
   "metadata": {},
   "outputs": [],
   "source": []
  }
 ],
 "metadata": {
  "kernelspec": {
   "display_name": "Python 2",
   "language": "python",
   "name": "python2"
  },
  "language_info": {
   "codemirror_mode": {
    "name": "ipython",
    "version": 2
   },
   "file_extension": ".py",
   "mimetype": "text/x-python",
   "name": "python",
   "nbconvert_exporter": "python",
   "pygments_lexer": "ipython2",
   "version": "2.7.12"
  }
 },
 "nbformat": 4,
 "nbformat_minor": 2
}